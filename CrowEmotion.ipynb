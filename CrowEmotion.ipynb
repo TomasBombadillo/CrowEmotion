{
  "nbformat": 4,
  "nbformat_minor": 0,
  "metadata": {
    "colab": {
      "name": "CrowEmotion.ipynb",
      "version": "0.3.2",
      "provenance": [],
      "collapsed_sections": [],
      "include_colab_link": true
    },
    "kernelspec": {
      "name": "python3",
      "display_name": "Python 3"
    },
    "accelerator": "GPU"
  },
  "cells": [
    {
      "cell_type": "markdown",
      "metadata": {
        "id": "view-in-github",
        "colab_type": "text"
      },
      "source": [
        "[View in Colaboratory](https://colab.research.google.com/github/TomasBombadillo/CrowEmotion/blob/master/CrowEmotion.ipynb)"
      ]
    },
    {
      "metadata": {
        "id": "G0SXDBAKPn2J",
        "colab_type": "code",
        "colab": {}
      },
      "cell_type": "code",
      "source": [
        "import tensorflow as tf\n",
        "import pandas as pd\n",
        "import numpy as np\n",
        "import matplotlib.pyplot as plt\n",
        "%matplotlib inline"
      ],
      "execution_count": 0,
      "outputs": []
    },
    {
      "metadata": {
        "id": "VAcj2_kSQWsv",
        "colab_type": "code",
        "colab": {
          "base_uri": "https://localhost:8080/",
          "height": 35
        },
        "outputId": "cd066e9a-3abf-416c-85e5-e5c8fe0fbcd1"
      },
      "cell_type": "code",
      "source": [
        "from google.colab import drive\n",
        "drive.mount('/content/gdrive/')"
      ],
      "execution_count": 2,
      "outputs": [
        {
          "output_type": "stream",
          "text": [
            "Drive already mounted at /content/gdrive/; to attempt to forcibly remount, call drive.mount(\"/content/gdrive/\", force_remount=True).\n"
          ],
          "name": "stdout"
        }
      ]
    },
    {
      "metadata": {
        "id": "D37-Y5FKiJ60",
        "colab_type": "code",
        "colab": {
          "base_uri": "https://localhost:8080/",
          "height": 345
        },
        "outputId": "0950131a-a061-4599-8ff0-305120a34a2b"
      },
      "cell_type": "code",
      "source": [
        "from wider import WIDER\n",
        "import matplotlib.pyplot as plt\n",
        "import cv2"
      ],
      "execution_count": 3,
      "outputs": [
        {
          "output_type": "error",
          "ename": "ModuleNotFoundError",
          "evalue": "ignored",
          "traceback": [
            "\u001b[0;31m---------------------------------------------------------------------------\u001b[0m",
            "\u001b[0;31mModuleNotFoundError\u001b[0m                       Traceback (most recent call last)",
            "\u001b[0;32m<ipython-input-3-56c546319129>\u001b[0m in \u001b[0;36m<module>\u001b[0;34m()\u001b[0m\n\u001b[0;32m----> 1\u001b[0;31m \u001b[0;32mfrom\u001b[0m \u001b[0mwider\u001b[0m \u001b[0;32mimport\u001b[0m \u001b[0mWIDER\u001b[0m\u001b[0;34m\u001b[0m\u001b[0m\n\u001b[0m\u001b[1;32m      2\u001b[0m \u001b[0;32mimport\u001b[0m \u001b[0mmatplotlib\u001b[0m\u001b[0;34m.\u001b[0m\u001b[0mpyplot\u001b[0m \u001b[0;32mas\u001b[0m \u001b[0mplt\u001b[0m\u001b[0;34m\u001b[0m\u001b[0m\n\u001b[1;32m      3\u001b[0m \u001b[0;32mimport\u001b[0m \u001b[0mcv2\u001b[0m\u001b[0;34m\u001b[0m\u001b[0m\n",
            "\u001b[0;31mModuleNotFoundError\u001b[0m: No module named 'wider'",
            "",
            "\u001b[0;31m---------------------------------------------------------------------------\u001b[0;32m\nNOTE: If your import is failing due to a missing package, you can\nmanually install dependencies using either !pip or !apt.\n\nTo view examples of installing some common dependencies, click the\n\"Open Examples\" button below.\n\u001b[0;31m---------------------------------------------------------------------------\u001b[0m\n"
          ]
        }
      ]
    },
    {
      "metadata": {
        "id": "ALKZa6MjPeS3",
        "colab_type": "text"
      },
      "cell_type": "markdown",
      "source": [
        "# Fer2013 - Emotion Dataset"
      ]
    },
    {
      "metadata": {
        "id": "yp_Xw6Syac0-",
        "colab_type": "code",
        "colab": {}
      },
      "cell_type": "code",
      "source": [
        "path = \"/content/gdrive/My Drive/Project/fer2013/\"\n",
        "\n",
        "fer2013 = pd.read_csv(path+\"fer2013.csv\", sep=',')"
      ],
      "execution_count": 0,
      "outputs": []
    },
    {
      "metadata": {
        "id": "2zmhmlezH-bk",
        "colab_type": "code",
        "colab": {}
      },
      "cell_type": "code",
      "source": [
        "data_train = fer2013.groupby(['Usage']).get_group('Training')\n",
        "data_privatetest = fer2013.groupby(['Usage']).get_group('PrivateTest')\n",
        "data_publictest = fer2013.groupby(['Usage']).get_group('PublicTest')"
      ],
      "execution_count": 0,
      "outputs": []
    },
    {
      "metadata": {
        "id": "0vul0PyNGPko",
        "colab_type": "code",
        "colab": {}
      },
      "cell_type": "code",
      "source": [
        "lenght_train = len(data_train)"
      ],
      "execution_count": 0,
      "outputs": []
    },
    {
      "metadata": {
        "id": "w6plYyE-udeq",
        "colab_type": "code",
        "colab": {}
      },
      "cell_type": "code",
      "source": [
        "images_train = np.zeros((lenght_train,48,48))\n",
        "emotion_train = np.zeros(lenght_train)\n",
        "\n",
        "for i in range(lenght_train):\n",
        "  images_train[i] = np.array(data_train.iloc[i,1].split()).astype(int).reshape(48,48)\n",
        "  emotion_train[i] = data_train.iloc[i,0]\n",
        "\n",
        "emotion_train = np.int16(emotion_train)"
      ],
      "execution_count": 0,
      "outputs": []
    },
    {
      "metadata": {
        "id": "QeKxLquQHUoV",
        "colab_type": "code",
        "colab": {
          "base_uri": "https://localhost:8080/",
          "height": 267
        },
        "outputId": "ebfbb554-4f01-4cd8-9dbb-da45490c05e9"
      },
      "cell_type": "code",
      "source": [
        "plt.imshow(images_train[0],cmap='gray')\n",
        "plt.show()"
      ],
      "execution_count": 25,
      "outputs": [
        {
          "output_type": "display_data",
          "data": {
            "image/png": "[encoded data removed]",
            "text/plain": [
              "<matplotlib.figure.Figure at 0x7fb971454748>"
            ]
          },
          "metadata": {
            "tags": []
          }
        }
      ]
    },
    {
      "metadata": {
        "id": "PP4cajgbLMRB",
        "colab_type": "code",
        "colab": {
          "base_uri": "https://localhost:8080/",
          "height": 35
        },
        "outputId": "3d780963-faa4-4342-eb0a-ef80c8250853"
      },
      "cell_type": "code",
      "source": [
        "emotion_train[0]"
      ],
      "execution_count": 26,
      "outputs": [
        {
          "output_type": "execute_result",
          "data": {
            "text/plain": [
              "0"
            ]
          },
          "metadata": {
            "tags": []
          },
          "execution_count": 26
        }
      ]
    },
    {
      "metadata": {
        "id": "2o9lWxuWgukD",
        "colab_type": "text"
      },
      "cell_type": "markdown",
      "source": [
        "* Image size = 48x48\n",
        "* categories :\n",
        "\n",
        "  - 0=Angry,\n",
        "  - 1=Disgust\n",
        "  - 2=Fear\n",
        "  - 3=Happy\n",
        "  - 4=Sad\n",
        "  - 5=Surprise\n",
        "  - 6=Neutral\n",
        " \n",
        "* Usage:\n",
        "  - Training\n",
        "  - PublicTest\n",
        "  - PrivateTest"
      ]
    },
    {
      "metadata": {
        "id": "Q6y9EMOmAqPa",
        "colab_type": "code",
        "colab": {}
      },
      "cell_type": "code",
      "source": [
        "width = 48\n",
        "height = 48\n",
        "\n",
        "n_classes = 7"
      ],
      "execution_count": 0,
      "outputs": []
    },
    {
      "metadata": {
        "id": "E12I0kd5QMRF",
        "colab_type": "text"
      },
      "cell_type": "markdown",
      "source": [
        "# IMBd Gender Dataset"
      ]
    },
    {
      "metadata": {
        "id": "ig8tlGHeQLBb",
        "colab_type": "code",
        "colab": {}
      },
      "cell_type": "code",
      "source": [
        ""
      ],
      "execution_count": 0,
      "outputs": []
    },
    {
      "metadata": {
        "id": "WaUK_gdsN46o",
        "colab_type": "text"
      },
      "cell_type": "markdown",
      "source": [
        "# model 1 (Sequential fully-CNN)"
      ]
    },
    {
      "metadata": {
        "id": "sCUlUENnrsjq",
        "colab_type": "code",
        "colab": {}
      },
      "cell_type": "code",
      "source": [
        "tf.reset_default_graph()\n",
        "\n",
        "X = tf.placeholder(tf.float32, shape=(None, width, height, 1))\n",
        "y = tf.placeholder(tf.float32, shape=(None, 7))\n",
        "\n"
      ],
      "execution_count": 0,
      "outputs": []
    },
    {
      "metadata": {
        "id": "bhdZEwHqED-k",
        "colab_type": "text"
      },
      "cell_type": "markdown",
      "source": [
        "# model 2 (Xception)"
      ]
    },
    {
      "metadata": {
        "id": "bqvLQ3vBC638",
        "colab_type": "code",
        "colab": {}
      },
      "cell_type": "code",
      "source": [
        "def little_Xception_Module(input_layer, conv_size, regularizer):\n",
        "  residual = tf.layers.conv2d(input_layer, conv_size, kernel_size=(1,1), strides = (2,2), padding='same', use_bias=False)\n",
        "  residual = tf.layers.batch_normalization(residual)\n",
        "  \n",
        "  x = tf.layers.separable_conv2d(input_layer, conv_size, kernel_size=(3,3), padding='same', activity_regularizer=regularizer,use_bias=False)\n",
        "  x = tf.nn.relu( tf.layers.batch_normalization(x) )\n",
        "  x = tf.layers.separable_conv2d(x, conv_size, kernel_size=(3,3), padding='same', activity_regularizer=regularizer,use_bias=False)\n",
        "  x = tf.layers.batch_normalization(x)\n",
        "  x = tf.layers.max_pooling2d(x, pool_size=(3,3), strides = (2,2), padding='same')\n",
        "  \n",
        "  return tf.add( x,residual )\n",
        "\n",
        "def little_Xception(input_layer):\n",
        "  convolutions = [5,8,16,32,64]\n",
        "  sizes =[3,1]\n",
        "  strides = [1,2]\n",
        "  \n",
        "  regularizer = tf.contrib.layers.l2_regularizer(0.01)\n",
        "  \n",
        "  # first step\n",
        "  x = tf.layers.conv2d(input_layer, convolutions[0], kernel_size=sizes[0], strides = strides[0], kernel_regularizer=regularizer,use_bias=False)\n",
        "  x = tf.nn.relu( tf.layers.batch_normalization(x) )\n",
        "  x = tf.layers.conv2d(x, convolutions[0], kernel_size=sizes[0], strides = strides[0], kernel_regularizer=regularizer,use_bias=False)\n",
        "  x = tf.nn.relu( tf.layers.batch_normalization(x) )\n",
        "  \n",
        "  # REPLACE WITH little_Xception_Module(x,convolutions[1])\n",
        "  \n",
        "  # module 1\n",
        "  residual = tf.layers.conv2d(x, convolutions[1], kernel_size=sizes[1], strides = strides[1], padding='same', use_bias=False)\n",
        "  residual = tf.layers.batch_normalization(residual)\n",
        "  \n",
        "  x = tf.layers.separable_conv2d(x, convolutions[1], kernel_size=sizes[0], padding='same', kernel_regularizer=regularizer,use_bias=False)\n",
        "  x = tf.nn.relu( tf.layers.batch_normalization(x) )\n",
        "  x = tf.layers.separable_conv2d(x, convolutions[1], kernel_size=sizes[0], padding='same', kernel_regularizer=regularizer,use_bias=False)\n",
        "  x = tf.layers.batch_normalization(x)\n",
        "  x = tf.layers.max_pooling2d(x, pool_size=sizes[0], strides = strides[1], padding='same')\n",
        "  \n",
        "  x = tf.add( x,residual )\n",
        "  \n",
        "  # module 2\n",
        "  residual = tf.layers.conv2d(x, convolutions[2], kernel_size=sizes[1], strides = strides[1], padding='same', use_bias=False)\n",
        "  residual = tf.layers.batch_normalization(residual)\n",
        "  \n",
        "  x = tf.layers.separable_conv2d(x, convolutions[2], kernel_size=sizes[0], padding='same', kernel_regularizer=regularizer,use_bias=False)\n",
        "  x = tf.nn.relu( tf.layers.batch_normalization(x) )\n",
        "  x = tf.layers.separable_conv2d(x, convolutions[2], kernel_size=sizes[0], padding='same', kernel_regularizer=regularizer,use_bias=False)\n",
        "  x = tf.layers.batch_normalization(x)\n",
        "  x = tf.layers.max_pooling2d(x, pool_size=sizes[0], strides = strides[1], padding='same')\n",
        "  \n",
        "  x = tf.add( x,residual )\n",
        "  \n",
        "  # module 3\n",
        "  residual = tf.layers.conv2d(x, convolutions[3], kernel_size=sizes[1], strides = strides[1], padding='same', use_bias=False)\n",
        "  residual = tf.layers.batch_normalization(residual)\n",
        "  \n",
        "  x = tf.layers.separable_conv2d(x, convolutions[3], kernel_size=sizes[0], padding='same', kernel_regularizer=regularizer,use_bias=False)\n",
        "  x = tf.nn.relu( tf.layers.batch_normalization(x) )\n",
        "  x = tf.layers.separable_conv2d(x, convolutions[3], kernel_size=sizes[0], padding='same', kernel_regularizer=regularizer,use_bias=False)\n",
        "  x = tf.layers.batch_normalization(x)\n",
        "  x = tf.layers.max_pooling2d(x, pool_size=sizes[0], strides = strides[1], padding='same')\n",
        "  \n",
        "  x = tf.add( x,residual )\n",
        "  \n",
        "  # module 4\n",
        "  residual = tf.layers.conv2d(x, convolutions[4], kernel_size=sizes[1], strides = strides[1], padding='same', use_bias=False)\n",
        "  residual = tf.layers.batch_normalization(residual)\n",
        "  \n",
        "  x = tf.layers.separable_conv2d(x, convolutions[4], kernel_size=sizes[0], padding='same', kernel_regularizer=regularizer,use_bias=False)\n",
        "  x = tf.nn.relu( tf.layers.batch_normalization(x) )\n",
        "  x = tf.layers.separable_conv2d(x, convolutions[4], kernel_size=sizes[0], padding='same', kernel_regularizer=regularizer,use_bias=False)\n",
        "  x = tf.layers.batch_normalization(x)\n",
        "  x = tf.layers.max_pooling2d(x, pool_size=sizes[0], strides = strides[1], padding='same')\n",
        "  \n",
        "  x = tf.add( x,residual )\n",
        "  \n",
        "  # end\n",
        "  x = tf.layers.conv2d(x, n_classes, kernel_size=sizes[0], strides = strides[0], padding='same')\n",
        "  x = tf.reduce_mean(x, axis=[1,2])\n",
        "  \n",
        "  out = tf.nn.softmax(x, name='predictions')\n",
        "  \n",
        "  return out\n"
      ],
      "execution_count": 0,
      "outputs": []
    },
    {
      "metadata": {
        "id": "Hg6vi1ShDjil",
        "colab_type": "code",
        "colab": {}
      },
      "cell_type": "code",
      "source": [
        "convolutions = [5,8,16,32,64]\n",
        "sizes =[3,1]\n",
        "strides = [1,2]\n",
        "  \n",
        "regularizer = tf.contrib.layers.l2_regularizer(0.01)\n",
        "  \n",
        "\n",
        "tf.reset_default_graph()\n",
        "\n",
        "X = tf.placeholder(tf.float32, shape=(None, width, height, 1))\n",
        "y = tf.placeholder(tf.float32, shape=(None, 7))\n",
        "\n",
        "# Base\n",
        "x = tf.layers.conv2d(X, convolutions[0], kernel_size=sizes[0], strides = strides[0], kernel_regularizer=regularizer,use_bias=False)\n",
        "x = tf.nn.relu( tf.layers.batch_normalization(x) )\n",
        "x = tf.layers.conv2d(x, convolutions[0], kernel_size=sizes[0], strides = strides[0], kernel_regularizer=regularizer,use_bias=False)\n",
        "x = tf.nn.relu( tf.layers.batch_normalization(x) )\n",
        "\n",
        "# Xception 1\n",
        "x = little_Xception_Module(x,convolutions[1], regularizer)\n",
        "# Xception 2\n",
        "x = little_Xception_Module(x,convolutions[2], regularizer)\n",
        "# Xception 3\n",
        "x = little_Xception_Module(x,convolutions[3], regularizer)\n",
        "# Xception 4\n",
        "x = little_Xception_Module(x,convolutions[4], regularizer)\n",
        "\n",
        "# End\n",
        "x = tf.layers.conv2d(x, n_classes, kernel_size=sizes[0], strides = strides[0], padding='same')\n",
        "x = tf.reduce_mean(x, axis=[1,2])\n",
        "  \n",
        "out = tf.nn.softmax(x, name='predictions')\n",
        "\n",
        "# training operations\n",
        "xentropy = tf.nn.softmax_cross_entropy_with_logits_v2(labels=y,logits=x)\n",
        "loss = tf.reduce_mean(xentropy, name=\"loss\")\n",
        "\n",
        "learning_rate = 0.001\n",
        "optimizer = tf.train.AdamOptimizer(learning_rate)\n",
        "training_op = optimizer.minimize(loss)\n",
        "\n",
        "correct = tf.equal(tf.argmax(y,1),tf.argmax(out,1))\n",
        "accuracy = tf.reduce_mean(tf.cast(correct, tf.float32))\n",
        "\n",
        "# One hot\n",
        "train_oh = tf.one_hot(emotion_train, n_classes)\n",
        "#test_oh = tf.one_hot(y_test, n_class,axis=1)\n",
        "'''\n",
        "new_x_train = tf.random_shuffle(x_train,1)\n",
        "new_y_train = tf.random_shuffle(train_oh,1)\n",
        "\n",
        "new_x_test = tf.random_shuffle(x_test,1)\n",
        "new_y_test = tf.random_shuffle(test_oh,1)\n",
        "'''\n",
        "init = tf.global_variables_initializer()"
      ],
      "execution_count": 0,
      "outputs": []
    },
    {
      "metadata": {
        "id": "85bhto5fEJ95",
        "colab_type": "code",
        "colab": {
          "base_uri": "https://localhost:8080/",
          "height": 176
        },
        "outputId": "364151f0-eb42-4f4b-9532-10c5666170da"
      },
      "cell_type": "code",
      "source": [
        "with tf.Session() as sess:\n",
        "  init.run()\n",
        "  y_training = train_oh.eval().reshape(-1,n_classes)\n",
        "  \n",
        "  print(y_training)\n",
        "  \n",
        "  print( out.eval(feed_dict={X:images_train[0].reshape(1,width,height,1), y:y_training[0].reshape(-1,n_classes)}) )"
      ],
      "execution_count": 28,
      "outputs": [
        {
          "output_type": "stream",
          "text": [
            "[[1. 0. 0. ... 0. 0. 0.]\n",
            " [1. 0. 0. ... 0. 0. 0.]\n",
            " [0. 0. 1. ... 0. 0. 0.]\n",
            " ...\n",
            " [0. 0. 0. ... 1. 0. 0.]\n",
            " [1. 0. 0. ... 0. 0. 0.]\n",
            " [0. 0. 0. ... 1. 0. 0.]]\n",
            "[[5.8743015e-05 3.7169875e-06 1.2457374e-03 1.7606466e-06 9.9729794e-01\n",
            "  6.4347172e-05 1.3278270e-03]]\n"
          ],
          "name": "stdout"
        }
      ]
    },
    {
      "metadata": {
        "id": "MJtJs4Gwocqh",
        "colab_type": "code",
        "colab": {}
      },
      "cell_type": "code",
      "source": [
        ""
      ],
      "execution_count": 0,
      "outputs": []
    }
  ]
}